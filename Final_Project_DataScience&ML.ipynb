{
  "nbformat": 4,
  "nbformat_minor": 0,
  "metadata": {
    "colab": {
      "provenance": []
    },
    "kernelspec": {
      "name": "python3",
      "display_name": "Python 3"
    },
    "language_info": {
      "name": "python"
    }
  },
  "cells": [
    {
      "cell_type": "markdown",
      "source": [
        "# Final Project"
      ],
      "metadata": {
        "id": "9Ljo71LGLc8P"
      }
    },
    {
      "cell_type": "markdown",
      "source": [
        "### 1.1 Part 1: VGG neural network"
      ],
      "metadata": {
        "id": "sv8hwxCxLq9g"
      }
    },
    {
      "cell_type": "code",
      "execution_count": null,
      "metadata": {
        "id": "H7hNQ3b-LKMG",
        "colab": {
          "base_uri": "https://localhost:8080/"
        },
        "outputId": "54a83a90-450a-4694-99b7-89d4075d5ba2"
      },
      "outputs": [
        {
          "output_type": "stream",
          "name": "stdout",
          "text": [
            "Downloading data from https://storage.googleapis.com/tensorflow/keras-applications/vgg16/vgg16_weights_tf_dim_ordering_tf_kernels_notop.h5\n",
            "58889256/58889256 [==============================] - 0s 0us/step\n",
            "Epoch 1/10\n",
            "625/625 [==============================] - 4260s 7s/step - loss: 2.3068 - accuracy: 0.1000 - val_loss: 2.3026 - val_accuracy: 0.1025\n",
            "Epoch 2/10\n",
            "625/625 [==============================] - 4300s 7s/step - loss: 2.3027 - accuracy: 0.0977 - val_loss: 2.3027 - val_accuracy: 0.1014\n",
            "Epoch 3/10\n",
            "625/625 [==============================] - 4254s 7s/step - loss: 2.3027 - accuracy: 0.0997 - val_loss: 2.3027 - val_accuracy: 0.0952\n",
            "Epoch 4/10\n",
            "132/625 [=====>........................] - ETA: 54:11 - loss: 2.3027 - accuracy: 0.1023"
          ]
        }
      ],
      "source": [
        "from tensorflow.keras.applications import VGG16\n",
        "from tensorflow.keras.models import Sequential\n",
        "from tensorflow.keras.layers import Dense, Flatten\n",
        "from tensorflow.keras.datasets import cifar10\n",
        "from tensorflow.keras.utils import to_categorical\n",
        "\n",
        "# Load CIFAR-10 dataset\n",
        "(x_train, y_train), (x_test, y_test) = cifar10.load_data()\n",
        "\n",
        "x_train = x_train.astype('float32') / 255.0\n",
        "x_test = x_test.astype('float32') / 255.0\n",
        "y_train = to_categorical(y_train, 10)\n",
        "y_test = to_categorical(y_test, 10)\n",
        "\n",
        "# Create VGG model\n",
        "model = Sequential()\n",
        "model.add(VGG16(include_top=False, weights='imagenet', input_shape=(32, 32, 3)))\n",
        "model.add(Flatten())\n",
        "model.add(Dense(256, activation='relu'))\n",
        "model.add(Dense(10, activation='softmax'))\n",
        "\n",
        "model.compile(optimizer='adam', loss='categorical_crossentropy', metrics=['accuracy'])\n",
        "\n",
        "# Train the model\n",
        "model.fit(x_train, y_train, epochs=10, batch_size=64, validation_split=0.2)\n",
        "\n",
        "loss, accuracy = model.evaluate(x_test, y_test)\n",
        "print(f'Test accuracy: {accuracy * 100:.2f}%')\n"
      ]
    },
    {
      "cell_type": "markdown",
      "source": [
        "###1.2 Part 2: Residual neural network"
      ],
      "metadata": {
        "id": "uOffd3sZRXAu"
      }
    },
    {
      "cell_type": "code",
      "source": [
        "from tensorflow.keras.layers import Input, Conv2D, BatchNormalization, ReLU, Add, AveragePooling2D, Flatten, Dense\n",
        "from tensorflow.keras.models import Model\n",
        "from tensorflow.keras.datasets import cifar10\n",
        "from tensorflow.keras.utils import to_categorical\n",
        "from tensorflow.keras import backend as K\n",
        "\n",
        "(x_train, y_train), (x_test, y_test) = cifar10.load_data()\n",
        "\n",
        "x_train = x_train.astype('float32') / 255.0\n",
        "x_test = x_test.astype('float32') / 255.0\n",
        "y_train = to_categorical(y_train, 10)\n",
        "y_test = to_categorical(y_test, 10)\n",
        "\n",
        "# Define Residual Block\n",
        "def residual_block(x, filters, kernel_size=3, stride=1):\n",
        "    shortcut = x\n",
        "\n",
        "    # First convolution layer\n",
        "    x = Conv2D(filters, kernel_size, strides=stride, padding='same')(x)\n",
        "    x = BatchNormalization()(x)\n",
        "    x = ReLU()(x)\n",
        "\n",
        "    x = Conv2D(filters, kernel_size, strides=1, padding='same')(x)\n",
        "    x = BatchNormalization()(x)\n",
        "\n",
        "    # If the input shape and output shape don't match, add a 1x1 conv. to the shortcut\n",
        "    if K.int_shape(shortcut)[-1] != filters or stride != 1:\n",
        "        shortcut = Conv2D(filters, 1, strides=stride, padding='same')(shortcut)\n",
        "        shortcut = BatchNormalization()(shortcut)\n",
        "\n",
        "    x = Add()([x, shortcut])\n",
        "    x = ReLU()(x)\n",
        "\n",
        "    return x\n",
        "\n",
        "# Build ResNet model\n",
        "input_tensor = Input(shape=(32, 32, 3))\n",
        "x = Conv2D(64, 7, strides=2, padding='same')(input_tensor)\n",
        "x = BatchNormalization()(x)\n",
        "x = ReLU()(x)\n",
        "x = residual_block(x, 64)\n",
        "x = residual_block(x, 64)\n",
        "x = residual_block(x, 128, stride=2)\n",
        "x = residual_block(x, 128)\n",
        "x = residual_block(x, 256, stride=2)\n",
        "x = residual_block(x, 256)\n",
        "x = AveragePooling2D(4)(x)\n",
        "x = Flatten()(x)\n",
        "output_tensor = Dense(10, activation='softmax')(x)\n",
        "\n",
        "model = Model(input_tensor, output_tensor)\n",
        "\n",
        "# Train the model\n",
        "model.compile(optimizer='adam', loss='categorical_crossentropy', metrics=['accuracy'])\n",
        "model.fit(x_train, y_train, epochs=10, batch_size=64, validation_split=0.2)\n",
        "\n",
        "loss, accuracy = model.evaluate(x_test, y_test)\n",
        "print(f'Test accuracy: {accuracy * 100:.2f}%')\n"
      ],
      "metadata": {
        "id": "7tNbmTneR0Dn",
        "colab": {
          "base_uri": "https://localhost:8080/"
        },
        "outputId": "bfe86aaf-2c4e-49a5-82bd-4244ec6d7cdb"
      },
      "execution_count": 1,
      "outputs": [
        {
          "output_type": "stream",
          "name": "stdout",
          "text": [
            "Downloading data from https://www.cs.toronto.edu/~kriz/cifar-10-python.tar.gz\n",
            "170498071/170498071 [==============================] - 3s 0us/step\n",
            "Epoch 1/10\n",
            "625/625 [==============================] - 887s 1s/step - loss: 1.3891 - accuracy: 0.4989 - val_loss: 1.3789 - val_accuracy: 0.5242\n",
            "Epoch 2/10\n",
            "625/625 [==============================] - 880s 1s/step - loss: 0.9646 - accuracy: 0.6576 - val_loss: 1.4382 - val_accuracy: 0.5238\n",
            "Epoch 3/10\n",
            "625/625 [==============================] - 883s 1s/step - loss: 0.7495 - accuracy: 0.7376 - val_loss: 0.9497 - val_accuracy: 0.6770\n",
            "Epoch 4/10\n",
            "625/625 [==============================] - 878s 1s/step - loss: 0.6054 - accuracy: 0.7878 - val_loss: 0.8563 - val_accuracy: 0.7193\n",
            "Epoch 5/10\n",
            "625/625 [==============================] - 876s 1s/step - loss: 0.4797 - accuracy: 0.8299 - val_loss: 1.0989 - val_accuracy: 0.6708\n",
            "Epoch 6/10\n",
            "625/625 [==============================] - 876s 1s/step - loss: 0.3718 - accuracy: 0.8698 - val_loss: 1.1072 - val_accuracy: 0.6793\n",
            "Epoch 7/10\n",
            "625/625 [==============================] - 878s 1s/step - loss: 0.2704 - accuracy: 0.9052 - val_loss: 1.0196 - val_accuracy: 0.7355\n",
            "Epoch 8/10\n",
            "625/625 [==============================] - 877s 1s/step - loss: 0.2002 - accuracy: 0.9299 - val_loss: 1.0482 - val_accuracy: 0.7331\n",
            "Epoch 9/10\n",
            "625/625 [==============================] - 872s 1s/step - loss: 0.1470 - accuracy: 0.9480 - val_loss: 1.2464 - val_accuracy: 0.7297\n",
            "Epoch 10/10\n",
            "625/625 [==============================] - 873s 1s/step - loss: 0.1114 - accuracy: 0.9612 - val_loss: 1.0891 - val_accuracy: 0.7489\n",
            "313/313 [==============================] - 49s 158ms/step - loss: 1.1280 - accuracy: 0.7363\n",
            "Test accuracy: 73.63%\n"
          ]
        }
      ]
    }
  ]
}